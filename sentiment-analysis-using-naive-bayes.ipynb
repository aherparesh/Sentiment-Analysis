{
  "cells": [
    {
      "metadata": {
        "trusted": true,
        "_uuid": "de73b51dfce05d1168e134f9a16a2ca979790b9e"
      },
      "cell_type": "code",
      "source": "import numpy as np # linear algebra\nimport pandas as pd # data processing, CSV file I/O (e.g. pd.read_csv)\nimport seaborn as sns\nimport matplotlib.pyplot as plt\n\nfrom sklearn.feature_extraction.text import CountVectorizer\nfrom sklearn.linear_model import LinearRegression\nfrom keras.preprocessing.sequence import pad_sequences\n\n\nfrom collections import Counter\nimport nltk\nimport seaborn as sns\nimport string\nfrom nltk.corpus import stopwords\n# import re\n# from autocorrect import spell\nimport regex as re\n\nfrom keras.preprocessing.text import Tokenizer\nfrom keras.preprocessing.sequence import pad_sequences\n\nfrom keras.models import Sequential\nfrom keras.layers import Dense\nfrom keras.backend import eval\nfrom keras.optimizers import Adam\nfrom keras.layers import LSTM\nfrom keras.layers.embeddings import Embedding\nfrom keras.layers import Dropout\nfrom keras.layers.convolutional import Conv1D,MaxPooling1D",
      "execution_count": 253,
      "outputs": []
    },
    {
      "metadata": {
        "trusted": true,
        "_uuid": "dc5074b52316f312665e031f0409d42457539385",
        "scrolled": true
      },
      "cell_type": "code",
      "source": "df = pd.read_csv('../input/7282_1.csv')\ndf.head()",
      "execution_count": 254,
      "outputs": [
        {
          "output_type": "execute_result",
          "execution_count": 254,
          "data": {
            "text/plain": "                  address         ...          reviews.userProvince\n0  Riviera San Nicol 11/a         ...                           NaN\n1  Riviera San Nicol 11/a         ...                           NaN\n2  Riviera San Nicol 11/a         ...                           NaN\n3  Riviera San Nicol 11/a         ...                           NaN\n4  Riviera San Nicol 11/a         ...                           NaN\n\n[5 rows x 19 columns]",
            "text/html": "<div>\n<style scoped>\n    .dataframe tbody tr th:only-of-type {\n        vertical-align: middle;\n    }\n\n    .dataframe tbody tr th {\n        vertical-align: top;\n    }\n\n    .dataframe thead th {\n        text-align: right;\n    }\n</style>\n<table border=\"1\" class=\"dataframe\">\n  <thead>\n    <tr style=\"text-align: right;\">\n      <th></th>\n      <th>address</th>\n      <th>categories</th>\n      <th>city</th>\n      <th>country</th>\n      <th>latitude</th>\n      <th>longitude</th>\n      <th>name</th>\n      <th>postalCode</th>\n      <th>province</th>\n      <th>reviews.date</th>\n      <th>reviews.dateAdded</th>\n      <th>reviews.doRecommend</th>\n      <th>reviews.id</th>\n      <th>reviews.rating</th>\n      <th>reviews.text</th>\n      <th>reviews.title</th>\n      <th>reviews.userCity</th>\n      <th>reviews.username</th>\n      <th>reviews.userProvince</th>\n    </tr>\n  </thead>\n  <tbody>\n    <tr>\n      <th>0</th>\n      <td>Riviera San Nicol 11/a</td>\n      <td>Hotels</td>\n      <td>Mableton</td>\n      <td>US</td>\n      <td>45.421611</td>\n      <td>12.376187</td>\n      <td>Hotel Russo Palace</td>\n      <td>30126</td>\n      <td>GA</td>\n      <td>2013-09-22T00:00:00Z</td>\n      <td>2016-10-24T00:00:25Z</td>\n      <td>NaN</td>\n      <td>NaN</td>\n      <td>4.0</td>\n      <td>Pleasant 10 min walk along the sea front to th...</td>\n      <td>Good location away from the crouds</td>\n      <td>NaN</td>\n      <td>Russ (kent)</td>\n      <td>NaN</td>\n    </tr>\n    <tr>\n      <th>1</th>\n      <td>Riviera San Nicol 11/a</td>\n      <td>Hotels</td>\n      <td>Mableton</td>\n      <td>US</td>\n      <td>45.421611</td>\n      <td>12.376187</td>\n      <td>Hotel Russo Palace</td>\n      <td>30126</td>\n      <td>GA</td>\n      <td>2015-04-03T00:00:00Z</td>\n      <td>2016-10-24T00:00:25Z</td>\n      <td>NaN</td>\n      <td>NaN</td>\n      <td>5.0</td>\n      <td>Really lovely hotel. Stayed on the very top fl...</td>\n      <td>Great hotel with Jacuzzi bath!</td>\n      <td>NaN</td>\n      <td>A Traveler</td>\n      <td>NaN</td>\n    </tr>\n    <tr>\n      <th>2</th>\n      <td>Riviera San Nicol 11/a</td>\n      <td>Hotels</td>\n      <td>Mableton</td>\n      <td>US</td>\n      <td>45.421611</td>\n      <td>12.376187</td>\n      <td>Hotel Russo Palace</td>\n      <td>30126</td>\n      <td>GA</td>\n      <td>2014-05-13T00:00:00Z</td>\n      <td>2016-10-24T00:00:25Z</td>\n      <td>NaN</td>\n      <td>NaN</td>\n      <td>5.0</td>\n      <td>Ett mycket bra hotell. Det som drog ner betyge...</td>\n      <td>Lugnt l��ge</td>\n      <td>NaN</td>\n      <td>Maud</td>\n      <td>NaN</td>\n    </tr>\n    <tr>\n      <th>3</th>\n      <td>Riviera San Nicol 11/a</td>\n      <td>Hotels</td>\n      <td>Mableton</td>\n      <td>US</td>\n      <td>45.421611</td>\n      <td>12.376187</td>\n      <td>Hotel Russo Palace</td>\n      <td>30126</td>\n      <td>GA</td>\n      <td>2013-10-27T00:00:00Z</td>\n      <td>2016-10-24T00:00:25Z</td>\n      <td>NaN</td>\n      <td>NaN</td>\n      <td>5.0</td>\n      <td>We stayed here for four nights in October. The...</td>\n      <td>Good location on the Lido.</td>\n      <td>NaN</td>\n      <td>Julie</td>\n      <td>NaN</td>\n    </tr>\n    <tr>\n      <th>4</th>\n      <td>Riviera San Nicol 11/a</td>\n      <td>Hotels</td>\n      <td>Mableton</td>\n      <td>US</td>\n      <td>45.421611</td>\n      <td>12.376187</td>\n      <td>Hotel Russo Palace</td>\n      <td>30126</td>\n      <td>GA</td>\n      <td>2015-03-05T00:00:00Z</td>\n      <td>2016-10-24T00:00:25Z</td>\n      <td>NaN</td>\n      <td>NaN</td>\n      <td>5.0</td>\n      <td>We stayed here for four nights in October. The...</td>\n      <td>������ ���������������</td>\n      <td>NaN</td>\n      <td>sungchul</td>\n      <td>NaN</td>\n    </tr>\n  </tbody>\n</table>\n</div>"
          },
          "metadata": {}
        }
      ]
    },
    {
      "metadata": {
        "trusted": true,
        "_uuid": "ee424b356e469a769a0f0ec244babd6e762ae29c"
      },
      "cell_type": "code",
      "source": "data=df[['reviews.text','reviews.rating']]\ndata.head()",
      "execution_count": 255,
      "outputs": [
        {
          "output_type": "execute_result",
          "execution_count": 255,
          "data": {
            "text/plain": "                                        reviews.text  reviews.rating\n0  Pleasant 10 min walk along the sea front to th...             4.0\n1  Really lovely hotel. Stayed on the very top fl...             5.0\n2  Ett mycket bra hotell. Det som drog ner betyge...             5.0\n3  We stayed here for four nights in October. The...             5.0\n4  We stayed here for four nights in October. The...             5.0",
            "text/html": "<div>\n<style scoped>\n    .dataframe tbody tr th:only-of-type {\n        vertical-align: middle;\n    }\n\n    .dataframe tbody tr th {\n        vertical-align: top;\n    }\n\n    .dataframe thead th {\n        text-align: right;\n    }\n</style>\n<table border=\"1\" class=\"dataframe\">\n  <thead>\n    <tr style=\"text-align: right;\">\n      <th></th>\n      <th>reviews.text</th>\n      <th>reviews.rating</th>\n    </tr>\n  </thead>\n  <tbody>\n    <tr>\n      <th>0</th>\n      <td>Pleasant 10 min walk along the sea front to th...</td>\n      <td>4.0</td>\n    </tr>\n    <tr>\n      <th>1</th>\n      <td>Really lovely hotel. Stayed on the very top fl...</td>\n      <td>5.0</td>\n    </tr>\n    <tr>\n      <th>2</th>\n      <td>Ett mycket bra hotell. Det som drog ner betyge...</td>\n      <td>5.0</td>\n    </tr>\n    <tr>\n      <th>3</th>\n      <td>We stayed here for four nights in October. The...</td>\n      <td>5.0</td>\n    </tr>\n    <tr>\n      <th>4</th>\n      <td>We stayed here for four nights in October. The...</td>\n      <td>5.0</td>\n    </tr>\n  </tbody>\n</table>\n</div>"
          },
          "metadata": {}
        }
      ]
    },
    {
      "metadata": {
        "trusted": true,
        "_uuid": "5bf74d311872654548ca66e24f202e97eb7bb9ad"
      },
      "cell_type": "code",
      "source": "review=pd.DataFrame(data.groupby('reviews.rating').size().sort_values(ascending=False).rename('No of Users').reset_index())\nreview.head()",
      "execution_count": 256,
      "outputs": [
        {
          "output_type": "execute_result",
          "execution_count": 256,
          "data": {
            "text/plain": "   reviews.rating  No of Users\n0             5.0        12671\n1             4.0         9755\n2             3.0         5708\n3             1.0         3068\n4             2.0         2979",
            "text/html": "<div>\n<style scoped>\n    .dataframe tbody tr th:only-of-type {\n        vertical-align: middle;\n    }\n\n    .dataframe tbody tr th {\n        vertical-align: top;\n    }\n\n    .dataframe thead th {\n        text-align: right;\n    }\n</style>\n<table border=\"1\" class=\"dataframe\">\n  <thead>\n    <tr style=\"text-align: right;\">\n      <th></th>\n      <th>reviews.rating</th>\n      <th>No of Users</th>\n    </tr>\n  </thead>\n  <tbody>\n    <tr>\n      <th>0</th>\n      <td>5.0</td>\n      <td>12671</td>\n    </tr>\n    <tr>\n      <th>1</th>\n      <td>4.0</td>\n      <td>9755</td>\n    </tr>\n    <tr>\n      <th>2</th>\n      <td>3.0</td>\n      <td>5708</td>\n    </tr>\n    <tr>\n      <th>3</th>\n      <td>1.0</td>\n      <td>3068</td>\n    </tr>\n    <tr>\n      <th>4</th>\n      <td>2.0</td>\n      <td>2979</td>\n    </tr>\n  </tbody>\n</table>\n</div>"
          },
          "metadata": {}
        }
      ]
    },
    {
      "metadata": {
        "trusted": true,
        "_uuid": "e62fe7f79575256a7aadebdf77d30509f4730215"
      },
      "cell_type": "code",
      "source": "import seaborn as sns \nimport matplotlib.pyplot as plt\nsns.set(style=\"whitegrid\")\n\nf, ax = plt.subplots(figsize=(15, 10))\nsns.set_color_codes(\"pastel\") \nsns.barplot(y=\"reviews.rating\", x=\"No of Users\", data=review.iloc[:20, :10],label=\"Score\", color=\"pink\")\n\nax.legend(ncol=2, loc=\"upper left\", frameon=True)\nax.set(xlabel=\"No of People\",ylabel=\"Rating\") \nsns.despine(left=True, bottom=True)\nplt.show()",
      "execution_count": 257,
      "outputs": [
        {
          "output_type": "display_data",
          "data": {
            "text/plain": "<Figure size 1080x720 with 1 Axes>",
            "image/png": "[encoded data removed]"
          },
          "metadata": {}
        }
      ]
    },
    {
      "metadata": {
        "trusted": true,
        "_uuid": "ca88b92a85d883748242fd022a23748d3cf07d5d"
      },
      "cell_type": "code",
      "source": "mpermanent=data.dropna()\nmpermanent[mpermanent['reviews.rating'] != 3]\nmpermanent['positively Rated'] = np.where(mpermanent['reviews.rating'] > 2, 1, 0)\nmpermanent.head()",
      "execution_count": 258,
      "outputs": [
        {
          "output_type": "stream",
          "text": "/opt/conda/lib/python3.6/site-packages/ipykernel_launcher.py:3: SettingWithCopyWarning: \nA value is trying to be set on a copy of a slice from a DataFrame.\nTry using .loc[row_indexer,col_indexer] = value instead\n\nSee the caveats in the documentation: http://pandas.pydata.org/pandas-docs/stable/indexing.html#indexing-view-versus-copy\n  This is separate from the ipykernel package so we can avoid doing imports until\n",
          "name": "stderr"
        },
        {
          "output_type": "execute_result",
          "execution_count": 258,
          "data": {
            "text/plain": "                                        reviews.text        ...         positively Rated\n0  Pleasant 10 min walk along the sea front to th...        ...                        1\n1  Really lovely hotel. Stayed on the very top fl...        ...                        1\n2  Ett mycket bra hotell. Det som drog ner betyge...        ...                        1\n3  We stayed here for four nights in October. The...        ...                        1\n4  We stayed here for four nights in October. The...        ...                        1\n\n[5 rows x 3 columns]",
            "text/html": "<div>\n<style scoped>\n    .dataframe tbody tr th:only-of-type {\n        vertical-align: middle;\n    }\n\n    .dataframe tbody tr th {\n        vertical-align: top;\n    }\n\n    .dataframe thead th {\n        text-align: right;\n    }\n</style>\n<table border=\"1\" class=\"dataframe\">\n  <thead>\n    <tr style=\"text-align: right;\">\n      <th></th>\n      <th>reviews.text</th>\n      <th>reviews.rating</th>\n      <th>positively Rated</th>\n    </tr>\n  </thead>\n  <tbody>\n    <tr>\n      <th>0</th>\n      <td>Pleasant 10 min walk along the sea front to th...</td>\n      <td>4.0</td>\n      <td>1</td>\n    </tr>\n    <tr>\n      <th>1</th>\n      <td>Really lovely hotel. Stayed on the very top fl...</td>\n      <td>5.0</td>\n      <td>1</td>\n    </tr>\n    <tr>\n      <th>2</th>\n      <td>Ett mycket bra hotell. Det som drog ner betyge...</td>\n      <td>5.0</td>\n      <td>1</td>\n    </tr>\n    <tr>\n      <th>3</th>\n      <td>We stayed here for four nights in October. The...</td>\n      <td>5.0</td>\n      <td>1</td>\n    </tr>\n    <tr>\n      <th>4</th>\n      <td>We stayed here for four nights in October. The...</td>\n      <td>5.0</td>\n      <td>1</td>\n    </tr>\n  </tbody>\n</table>\n</div>"
          },
          "metadata": {}
        }
      ]
    },
    {
      "metadata": {
        "trusted": true,
        "_uuid": "ec4fed8d89414992d9ae2f03a20ac3f7f1da6b9f"
      },
      "cell_type": "code",
      "source": "reviews=mpermanent['reviews.text']",
      "execution_count": 259,
      "outputs": []
    },
    {
      "metadata": {
        "trusted": true,
        "_uuid": "f37d2edff36a5e0268576c97093b8f759afae8b8"
      },
      "cell_type": "code",
      "source": "reviews[1]",
      "execution_count": 260,
      "outputs": [
        {
          "output_type": "execute_result",
          "execution_count": 260,
          "data": {
            "text/plain": "\"Really lovely hotel. Stayed on the very top floor and were surprised by a Jacuzzi bath we didn't know we were getting! Staff were friendly and helpful and the included breakfast was great! Great location and great value for money. Didn't want to leave!\""
          },
          "metadata": {}
        }
      ]
    },
    {
      "metadata": {
        "trusted": true,
        "_uuid": "87a6e8e8ac20da4a1f6b17b71782ab1aaa8e8540"
      },
      "cell_type": "code",
      "source": "stop=set(stopwords.words('english'))",
      "execution_count": 261,
      "outputs": []
    },
    {
      "metadata": {
        "trusted": true,
        "_uuid": "19db44683e5dda6c33e53243da1be27da6dca5a9"
      },
      "cell_type": "code",
      "source": "def clean_document(doco):\n    punctuation = string.punctuation\n    punc_replace = ''.join([' ' for s in punctuation])\n    doco_link_clean = re.sub(r'http\\S+', '', doco)\n    doco_clean_and = re.sub(r'&\\S+', '', doco_link_clean)\n    doco_clean_at = re.sub(r'@\\S+', '', doco_clean_and)\n    doco_clean = doco_clean_at.replace('-', ' ')\n    doco_alphas = re.sub(r'\\W +', ' ', doco_clean)\n    trans_table = str.maketrans(punctuation, punc_replace)\n    doco_clean = ' '.join([word.translate(trans_table) for word in doco_alphas.split(' ')])\n    doco_clean = doco_clean.split(' ')\n    p = re.compile(r'\\s*\\b(?=[a-z\\d]*([a-z\\d])\\1{3}|\\d+\\b)[a-z\\d]+', re.IGNORECASE)\n    doco_clean = ([p.sub(\"\", x).strip() for x in doco_clean])\n    doco_clean = [word.lower() for word in doco_clean if len(word) > 2]\n    doco_clean = ([i for i in doco_clean if i not in stop])\n#     doco_clean = [spell(word) for word in doco_clean]\n#     p = re.compile(r'\\s*\\b(?=[a-z\\d]*([a-z\\d])\\1{3}|\\d+\\b)[a-z\\d]+', re.IGNORECASE)\n    doco_clean = ([p.sub(\"\", x).strip() for x in doco_clean])\n#     doco_clean = ([spell(k) for k in doco_clean])\n    return doco_clean",
      "execution_count": 262,
      "outputs": []
    },
    {
      "metadata": {
        "trusted": true,
        "_uuid": "bf243ad0ca5ef565daf71939cf24a960dc0bcb11"
      },
      "cell_type": "code",
      "source": "review_cleans = [clean_document(doc) for doc in reviews];\nsentences = [' '.join(r) for r in review_cleans ]",
      "execution_count": 263,
      "outputs": []
    },
    {
      "metadata": {
        "trusted": true,
        "_uuid": "b1ab8bc3efa0df1aa6bb1d4bc36613d85a014dfc"
      },
      "cell_type": "code",
      "source": "mpermanent['clean.text']=sentences\nmpermanent.head()",
      "execution_count": 264,
      "outputs": [
        {
          "output_type": "stream",
          "text": "/opt/conda/lib/python3.6/site-packages/ipykernel_launcher.py:1: SettingWithCopyWarning: \nA value is trying to be set on a copy of a slice from a DataFrame.\nTry using .loc[row_indexer,col_indexer] = value instead\n\nSee the caveats in the documentation: http://pandas.pydata.org/pandas-docs/stable/indexing.html#indexing-view-versus-copy\n  \"\"\"Entry point for launching an IPython kernel.\n",
          "name": "stderr"
        },
        {
          "output_type": "execute_result",
          "execution_count": 264,
          "data": {
            "text/plain": "                                        reviews.text                        ...                                                                 clean.text\n0  Pleasant 10 min walk along the sea front to th...                        ...                          pleasant min walk along sea front water bus re...\n1  Really lovely hotel. Stayed on the very top fl...                        ...                          really lovely hotel stayed top floor surprised...\n2  Ett mycket bra hotell. Det som drog ner betyge...                        ...                          ett mycket bra hotell det som drog ner betyget...\n3  We stayed here for four nights in October. The...                        ...                          stayed four nights october hotel staff welcomi...\n4  We stayed here for four nights in October. The...                        ...                          stayed four nights october hotel staff welcomi...\n\n[5 rows x 4 columns]",
            "text/html": "<div>\n<style scoped>\n    .dataframe tbody tr th:only-of-type {\n        vertical-align: middle;\n    }\n\n    .dataframe tbody tr th {\n        vertical-align: top;\n    }\n\n    .dataframe thead th {\n        text-align: right;\n    }\n</style>\n<table border=\"1\" class=\"dataframe\">\n  <thead>\n    <tr style=\"text-align: right;\">\n      <th></th>\n      <th>reviews.text</th>\n      <th>reviews.rating</th>\n      <th>positively Rated</th>\n      <th>clean.text</th>\n    </tr>\n  </thead>\n  <tbody>\n    <tr>\n      <th>0</th>\n      <td>Pleasant 10 min walk along the sea front to th...</td>\n      <td>4.0</td>\n      <td>1</td>\n      <td>pleasant min walk along sea front water bus re...</td>\n    </tr>\n    <tr>\n      <th>1</th>\n      <td>Really lovely hotel. Stayed on the very top fl...</td>\n      <td>5.0</td>\n      <td>1</td>\n      <td>really lovely hotel stayed top floor surprised...</td>\n    </tr>\n    <tr>\n      <th>2</th>\n      <td>Ett mycket bra hotell. Det som drog ner betyge...</td>\n      <td>5.0</td>\n      <td>1</td>\n      <td>ett mycket bra hotell det som drog ner betyget...</td>\n    </tr>\n    <tr>\n      <th>3</th>\n      <td>We stayed here for four nights in October. The...</td>\n      <td>5.0</td>\n      <td>1</td>\n      <td>stayed four nights october hotel staff welcomi...</td>\n    </tr>\n    <tr>\n      <th>4</th>\n      <td>We stayed here for four nights in October. The...</td>\n      <td>5.0</td>\n      <td>1</td>\n      <td>stayed four nights october hotel staff welcomi...</td>\n    </tr>\n  </tbody>\n</table>\n</div>"
          },
          "metadata": {}
        }
      ]
    },
    {
      "metadata": {
        "trusted": true,
        "_uuid": "b2f2e2b910f3b1ebfa928ef34a85e52240ccdf9e"
      },
      "cell_type": "code",
      "source": "mpermanent.isnull().sum()",
      "execution_count": 265,
      "outputs": [
        {
          "output_type": "execute_result",
          "execution_count": 265,
          "data": {
            "text/plain": "reviews.text        0\nreviews.rating      0\npositively Rated    0\nclean.text          0\ndtype: int64"
          },
          "metadata": {}
        }
      ]
    },
    {
      "metadata": {
        "trusted": true,
        "_uuid": "cc08a7215f7f90ddb1ac3bbacb52bb60dae7e31a"
      },
      "cell_type": "code",
      "source": "from sklearn.model_selection import train_test_split\n\nX_train, X_test, y_train, y_test = train_test_split(mpermanent['clean.text'], mpermanent['positively Rated'], random_state = 101)",
      "execution_count": 266,
      "outputs": []
    },
    {
      "metadata": {
        "trusted": true,
        "_uuid": "13858b10ac7b975113a109e207648edbfab489de"
      },
      "cell_type": "code",
      "source": "print('X_train first entry: \\n\\n', X_train[1])\nprint('\\n\\nX_train shape: ', X_train.shape)",
      "execution_count": 267,
      "outputs": [
        {
          "output_type": "stream",
          "text": "X_train first entry: \n\n really lovely hotel stayed top floor surprised jacuzzi bath know getting staff friendly helpful included breakfast great great location great value money want leave\n\n\nX_train shape:  (26271,)\n",
          "name": "stdout"
        }
      ]
    },
    {
      "metadata": {
        "trusted": true,
        "_uuid": "2e8ce4c63bed5d6e371886a3a7b4fd399da18c02"
      },
      "cell_type": "code",
      "source": "import string\nfrom nltk.corpus import stopwords\nstop=set(stopwords.words('english'))\ndef text_process(text):\n    '''\n    Takes in a string of text, then performs the following:\n    1. Remove all punctuation\n    2. Remove all stopwords\n    3. Return the cleaned text as a list of words\n    '''\n    nopunc = [char for char in text if char not in string.punctuation]\n    nopunc = ''.join(nopunc)\n    \n    return [word for word in nopunc.split() if word.lower() not in stopwords.words('english')]",
      "execution_count": 268,
      "outputs": []
    },
    {
      "metadata": {
        "trusted": true,
        "_uuid": "8daf36c91662e30860a9a3142531d432b4df55b4"
      },
      "cell_type": "code",
      "source": "# CountVectorizer\nfrom sklearn.feature_extraction.text import CountVectorizer\nvect = CountVectorizer(analyzer=text_process).fit(X_train)",
      "execution_count": 269,
      "outputs": []
    },
    {
      "metadata": {
        "trusted": true,
        "_uuid": "93ae06f0819130811352ee4bacf14b1166acc33c"
      },
      "cell_type": "code",
      "source": "vect.get_feature_names()[::3000]",
      "execution_count": 270,
      "outputs": [
        {
          "output_type": "execute_result",
          "execution_count": 270,
          "data": {
            "text/plain": "['00am',\n 'bolt',\n 'danisha',\n 'firework',\n 'initially',\n 'molding',\n 'prettier',\n 'shoppers',\n 'travail']"
          },
          "metadata": {}
        }
      ]
    },
    {
      "metadata": {
        "trusted": true,
        "_uuid": "abf7cd1a0a753b1affd1334258b87b227d9ea94b"
      },
      "cell_type": "code",
      "source": "len(vect.get_feature_names())",
      "execution_count": 271,
      "outputs": [
        {
          "output_type": "execute_result",
          "execution_count": 271,
          "data": {
            "text/plain": "26595"
          },
          "metadata": {}
        }
      ]
    },
    {
      "metadata": {
        "trusted": true,
        "_uuid": "76e4be4f4d6f26e961c7dd58d2ea34b653a84f18"
      },
      "cell_type": "code",
      "source": "# transform the documents in the training data to a document-term matrix\nX_train_vectorized = vect.transform(X_train)\nX_train_vectorized",
      "execution_count": 272,
      "outputs": [
        {
          "output_type": "execute_result",
          "execution_count": 272,
          "data": {
            "text/plain": "<26271x26595 sparse matrix of type '<class 'numpy.int64'>'\n\twith 563816 stored elements in Compressed Sparse Row format>"
          },
          "metadata": {}
        }
      ]
    },
    {
      "metadata": {
        "trusted": true,
        "_uuid": "234737d8f33c2462cf49649c7ed6f9c173474fd0"
      },
      "cell_type": "code",
      "source": "from sklearn.linear_model import LogisticRegression\n\nmodel = LogisticRegression()\nmodel.fit(X_train_vectorized, y_train)",
      "execution_count": 273,
      "outputs": [
        {
          "output_type": "execute_result",
          "execution_count": 273,
          "data": {
            "text/plain": "LogisticRegression(C=1.0, class_weight=None, dual=False, fit_intercept=True,\n          intercept_scaling=1, max_iter=100, multi_class='ovr', n_jobs=1,\n          penalty='l2', random_state=None, solver='liblinear', tol=0.0001,\n          verbose=0, warm_start=False)"
          },
          "metadata": {}
        }
      ]
    },
    {
      "metadata": {
        "trusted": true,
        "_uuid": "394693d756001dece784e65295ceb951d64c57e7"
      },
      "cell_type": "code",
      "source": "from sklearn.metrics import roc_auc_score\n\npredictions = model.predict(vect.transform(X_test))\n\nprint('AUC: ', roc_auc_score(y_test, predictions))",
      "execution_count": 274,
      "outputs": [
        {
          "output_type": "stream",
          "text": "AUC:  0.7570842108024094\n",
          "name": "stdout"
        }
      ]
    },
    {
      "metadata": {
        "trusted": true,
        "_uuid": "2da75290043b61b379687540548171e621cfbf70"
      },
      "cell_type": "code",
      "source": "# get the feature names as numpy array\nfeature_names = np.array(vect.get_feature_names())\n\n# Sort the coefficients from the model\nsorted_coef_index = model.coef_[0].argsort()\n\n# Find the 10 smallest and 10 largest coefficients\n# The 10 largest coefficients are being indexed using [:-11:-1] \n# so the list returned is in order of largest to smallest\nprint('Smallest Coefs: \\n{}\\n'.format(feature_names[sorted_coef_index[:10]]))\nprint('Largest Coefs: \\n{}\\n'.format(feature_names[sorted_coef_index[:-11:-1]]))",
      "execution_count": 275,
      "outputs": [
        {
          "output_type": "stream",
          "text": "Smallest Coefs: \n['roaches' 'dump' 'refund' 'sale' 'waste' 'lowest' 'stolen' 'cockroach'\n 'pictures' 'feather']\n\nLargest Coefs: \n['bien' 'enjoyed' 'loved' 'perfect' 'french' 'surprised' 'amazing'\n 'besides' 'tvs' 'complaint']\n\n",
          "name": "stdout"
        }
      ]
    },
    {
      "metadata": {
        "trusted": true,
        "_uuid": "4d12a4aece1c567e20bbf2483832e1f86b9b8133"
      },
      "cell_type": "code",
      "source": "#Tfidf\nfrom sklearn.feature_extraction.text import TfidfVectorizer\n\n# Fit the TfidfVectorizer to the training data specifiying a minimum document frequency of 5\nvect = TfidfVectorizer(min_df = 5).fit(X_train)\nlen(vect.get_feature_names())",
      "execution_count": 276,
      "outputs": [
        {
          "output_type": "execute_result",
          "execution_count": 276,
          "data": {
            "text/plain": "7009"
          },
          "metadata": {}
        }
      ]
    },
    {
      "metadata": {
        "trusted": true,
        "_uuid": "49a046c9ac10aa67777d826be99da6dc1e1dd1e8"
      },
      "cell_type": "code",
      "source": "X_train_vectorized = vect.transform(X_train)\n\nmodel = LogisticRegression()\nmodel.fit(X_train_vectorized, y_train)\npredictions = model.predict(vect.transform(X_test))\nprint('AUC: ', roc_auc_score(y_test, predictions))",
      "execution_count": 277,
      "outputs": [
        {
          "output_type": "stream",
          "text": "AUC:  0.7412534700394195\n",
          "name": "stdout"
        }
      ]
    },
    {
      "metadata": {
        "trusted": true,
        "_uuid": "2df64a0876be13f74ae7d54e5d454336c8c111cc"
      },
      "cell_type": "code",
      "source": "feature_names = np.array(vect.get_feature_names())\n\nsorted_tfidf_index = X_train_vectorized.max(0).toarray()[0].argsort()\n\nprint('Smallest Tfidf: \\n{}\\n'.format(feature_names[sorted_tfidf_index[:10]]))\nprint('Largest Tfidf: \\n{}\\n'.format(feature_names[sorted_tfidf_index[:-11:-1]]))",
      "execution_count": 278,
      "outputs": [
        {
          "output_type": "stream",
          "text": "Smallest Tfidf: \n['gifts' 'vide' 'gibt' 'gironde' 'estuaire' 'garonne' 'dlicieux' 'ajoute'\n 'paisible' 'heures']\n\nLargest Tfidf: \n['una' 'average' 'vacation' 'tima' 'poco' 'pleased' 'pleasant' 'awful'\n 'comfortable' 'awesome']\n\n",
          "name": "stdout"
        }
      ]
    },
    {
      "metadata": {
        "trusted": true,
        "_uuid": "dc94e55f059c5703088fe0259852416dc47d02ed"
      },
      "cell_type": "code",
      "source": "sorted_coef_index = model.coef_[0].argsort()\n\nprint('Smallest coef: \\n{}\\n'.format(feature_names[sorted_coef_index[:10]]))\nprint('Largest coef: \\n{}\\n'.format(feature_names[sorted_coef_index[:-11:-1]]))",
      "execution_count": 279,
      "outputs": [
        {
          "output_type": "stream",
          "text": "Smallest coef: \n['dirty' 'worst' 'roaches' 'never' 'poor' 'filthy' 'refund' 'disgusting'\n 'pictures' 'run']\n\nLargest coef: \n['great' 'nice' 'comfortable' 'enjoyed' 'clean' 'excellent' 'loved'\n 'perfect' 'wonderful' 'beautiful']\n\n",
          "name": "stdout"
        }
      ]
    },
    {
      "metadata": {
        "trusted": true,
        "_uuid": "cc47a0b4a19071eb3a9fa373a63d716e735c6be8"
      },
      "cell_type": "code",
      "source": "# These reviews are treated the same by our current model\n\nprint(model.predict(vect.transform(['Not an issue, phone is working', \n                                   'an issue, phone is not working'])))",
      "execution_count": 280,
      "outputs": [
        {
          "output_type": "stream",
          "text": "[1 1]\n",
          "name": "stdout"
        }
      ]
    },
    {
      "metadata": {
        "trusted": true,
        "_uuid": "0f66128e3cde54f068a796b0154095d0b301b885"
      },
      "cell_type": "code",
      "source": "# n-grams\n# Fit the CountVectorizer to the training data specifiying a minimum \n# document frequency of 5 and extracting 1-grams and 2-grams\nvect = CountVectorizer(min_df = 5, ngram_range = (1,2)).fit(X_train)\nX_train_vectorized = vect.transform(X_train)\nlen(vect.get_feature_names())",
      "execution_count": 281,
      "outputs": [
        {
          "output_type": "execute_result",
          "execution_count": 281,
          "data": {
            "text/plain": "21848"
          },
          "metadata": {}
        }
      ]
    },
    {
      "metadata": {
        "trusted": true,
        "_uuid": "a53a7cf45c4c0ad2e5369768eaddae3927692e00"
      },
      "cell_type": "code",
      "source": "model = LogisticRegression()\nmodel.fit(X_train_vectorized, y_train)\n\npredictions = model.predict(vect.transform(X_test))\nprint('AUC: ', roc_auc_score(y_test, predictions))",
      "execution_count": 282,
      "outputs": [
        {
          "output_type": "stream",
          "text": "AUC:  0.7659235148738941\n",
          "name": "stdout"
        }
      ]
    },
    {
      "metadata": {
        "trusted": true,
        "_uuid": "f498045e1679a93e87460e96e63fbfd2e370b467"
      },
      "cell_type": "code",
      "source": "feature_names = np.array(vect.get_feature_names())\nsorted_coef_index = model.coef_[0].argsort()\n\nprint('Smallest Coef: \\n{}\\n'.format(feature_names[sorted_coef_index][:10]))\nprint('Largest Coef: \\n{}\\n'.format(feature_names[sorted_coef_index][:-11:-1]))",
      "execution_count": 283,
      "outputs": [
        {
          "output_type": "stream",
          "text": "Smallest Coef: \n['roaches' 'dump' 'sale' 'good thing' 'refund' 'dirty' 'nightmare'\n 'late evening' 'sucio' 'cockroach']\n\nLargest Coef: \n['bien' 'loved' 'surprised' 'enjoyed' 'perfect' 'amazing' 'complaint'\n 'awesome' 'quick' 'outside door']\n\n",
          "name": "stdout"
        }
      ]
    },
    {
      "metadata": {
        "trusted": true,
        "_uuid": "6cc6822e1d699c7c73acbacd4a6bf76878a86586"
      },
      "cell_type": "code",
      "source": "print(model.predict(vect.transform(['run down'])))",
      "execution_count": 284,
      "outputs": [
        {
          "output_type": "stream",
          "text": "[1]\n",
          "name": "stdout"
        }
      ]
    },
    {
      "metadata": {
        "trusted": true,
        "_uuid": "cf80e60c585227d2f27c62590f63fe34bcdcdbfb"
      },
      "cell_type": "code",
      "source": "from sklearn.naive_bayes import MultinomialNB\nnb = MultinomialNB()\nnb.fit(X_train_vectorized, y_train)\npredictions = nb.predict(vect.transform(X_test))\nprint('AUC: ', roc_auc_score(y_test, predictions))",
      "execution_count": 285,
      "outputs": [
        {
          "output_type": "stream",
          "text": "AUC:  0.8221612518116969\n",
          "name": "stdout"
        }
      ]
    },
    {
      "metadata": {
        "trusted": true,
        "_uuid": "c21690a5168021f13b4db24ee53836847c1da5e3"
      },
      "cell_type": "code",
      "source": "feature_names = np.array(vect.get_feature_names())\nsorted_coef_index = nb.coef_[0].argsort()\n\nprint('Smallest Coef: \\n{}\\n'.format(feature_names[sorted_coef_index][:10]))\nprint('Largest Coef: \\n{}\\n'.format(feature_names[sorted_coef_index][:-11:-1]))",
      "execution_count": 286,
      "outputs": [
        {
          "output_type": "stream",
          "text": "Smallest Coef: \n['smell dirty' 'around bathroom' 'muy sucio' 'dirty roaches' 'also dirty'\n 'smelly dirty' 'party night' 'place horrible' 'siquiera' 'slept car']\n\nLargest Coef: \n['hotel' 'room' 'great' 'staff' 'stay' 'clean' 'nice' 'breakfast' 'good'\n 'friendly']\n\n",
          "name": "stdout"
        }
      ]
    },
    {
      "metadata": {
        "trusted": true,
        "_uuid": "390c613f873ccbd72f61452167f7700ba11619af"
      },
      "cell_type": "code",
      "source": "print(nb.predict(vect.transform(['room was dirty'])))",
      "execution_count": 287,
      "outputs": [
        {
          "output_type": "stream",
          "text": "[0]\n",
          "name": "stdout"
        }
      ]
    }
  ],
  "metadata": {
    "kernelspec": {
      "display_name": "Python 3",
      "language": "python",
      "name": "python3"
    },
    "language_info": {
      "name": "python",
      "version": "3.6.6",
      "mimetype": "text/x-python",
      "codemirror_mode": {
        "name": "ipython",
        "version": 3
      },
      "pygments_lexer": "ipython3",
      "nbconvert_exporter": "python",
      "file_extension": ".py"
    }
  },
  "nbformat": 4,
  "nbformat_minor": 1
}